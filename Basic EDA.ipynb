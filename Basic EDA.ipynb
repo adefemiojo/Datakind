import pandas as pd
import numpy as np
import matplotlib.pyplot as plt
import seaborn as sns
sns.set()
%config InlineBackend.figure_format = 'retina'
pd.set_option("display.precision", 2)
